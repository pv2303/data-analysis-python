{
 "cells": [
  {
   "cell_type": "markdown",
   "id": "257685f3",
   "metadata": {},
   "source": [
    "# Car Insurance Analysis\n",
    "\n",
    "Hey,\n",
    "This project is a bonus material from DataCamp course. In this project, I will fundamentally answer a single question: **which variable is the best predictor of whether a costumer will put in a claim?**\n",
    "According to the project's tale, this variable will be the single feature in a machine learning model, which will predict if a client will or will not make a claim on their insurance. "
   ]
  },
  {
   "attachments": {},
   "cell_type": "markdown",
   "id": "c3f0e974-faf8-458f-bf2a-06a469d0ea5e",
   "metadata": {},
   "source": [
    "Insurance companies invest a lot of time and money into optimizing their pricing and accurately estimating the likelihood that customers will make a claim. In many countries insurance it is a legal requirement to have car insurance in order to drive a vehicle on public roads, so the market is very large!\n",
    "\n",
    "(`Source: https://www.accenture.com/_acnmedia/pdf-84/accenture-machine-leaning-insurance.pdf`) \n",
    "\n",
    "Knowing all of this, On the Road car insurance have requested your services in building a model to predict whether a customer will make a claim on their insurance during the policy period. As they have very little expertise and infrastructure for deploying and monitoring machine learning models, they've asked you to identify the single feature that results in the best performing model, as measured by accuracy, so they can start with a simple model in production.\n",
    "\n",
    "They have supplied you with their customer data as a csv file called `car_insurance.csv`, along with a table detailing the column names and descriptions below."
   ]
  },
  {
   "cell_type": "markdown",
   "id": "8928ffdf-25d6-4ad9-909f-0dd8d10b9a42",
   "metadata": {},
   "source": [
    "\n",
    "\n",
    "## The dataset\n",
    "\n",
    "| Column | Description |\n",
    "|--------|-------------|\n",
    "| `id` | Unique client identifier |\n",
    "| `age` | Client's age: <br> <ul><li>`0`: 16-25</li><li>`1`: 26-39</li><li>`2`: 40-64</li><li>`3`: 65+</li></ul> |\n",
    "| `gender` | Client's gender: <br> <ul><li>`0`: Female</li><li>`1`: Male</li></ul> |\n",
    "| `driving_experience` | Years the client has been driving: <br> <ul><li>`0`: 0-9</li><li>`1`: 10-19</li><li>`2`: 20-29</li><li>`3`: 30+</li></ul> |\n",
    "| `education` | Client's level of education: <br> <ul><li>`0`: No education</li><li>`1`: High school</li><li>`2`: University</li></ul> |\n",
    "| `income` | Client's income level: <br> <ul><li>`0`: Poverty</li><li>`1`: Working class</li><li>`2`: Middle class</li><li>`3`: Upper class</li></ul> |\n",
    "| `credit_score` | Client's credit score (between zero and one) |\n",
    "| `vehicle_ownership` | Client's vehicle ownership status: <br><ul><li>`0`: Does not own their vehilce (paying off finance)</li><li>`1`: Owns their vehicle</li></ul> |\n",
    "| `vehcile_year` | Year of vehicle registration: <br><ul><li>`0`: Before 2015</li><li>`1`: 2015 or later</li></ul> |\n",
    "| `married` | Client's marital status: <br><ul><li>`0`: Not married</li><li>`1`: Married</li></ul> |\n",
    "| `children` | Client's number of children |\n",
    "| `postal_code` | Client's postal code | \n",
    "| `annual_mileage` | Number of miles driven by the client each year |\n",
    "| `vehicle_type` | Type of car: <br> <ul><li>`0`: Sedan</li><li>`1`: Sports car</li></ul> |\n",
    "| `speeding_violations` | Total number of speeding violations received by the client | \n",
    "| `duis` | Number of times the client has been caught driving under the influence of alcohol |\n",
    "| `past_accidents` | Total number of previous accidents the client has been involved in |\n",
    "| `outcome` | Whether the client made a claim on their car insurance (response variable): <br><ul><li>`0`: No claim</li><li>`1`: Made a claim</li></ul> |"
   ]
  },
  {
   "cell_type": "code",
   "execution_count": 75,
   "id": "d0eb4f16-5a99-460d-a5ba-706b7ef0bbe7",
   "metadata": {
    "executionCancelledAt": null,
    "executionTime": 11,
    "id": "bA5ajAmk7XH6",
    "lastExecutedAt": 1733432760888,
    "lastExecutedByKernel": "464275e9-0e65-4af8-8f08-a524cdaeee97",
    "lastScheduledRunId": null,
    "lastSuccessfullyExecutedCode": "# Import required modules\nimport pandas as pd\nimport numpy as np\nfrom statsmodels.formula.api import logit\n"
   },
   "outputs": [],
   "source": [
    "# Import required modules\n",
    "import pandas as pd\n",
    "import numpy as np\n",
    "from statsmodels.formula.api import logit\n"
   ]
  },
  {
   "cell_type": "code",
   "execution_count": 76,
   "id": "456dc4ce-b016-436b-b065-260dc50fa7c6",
   "metadata": {
    "collapsed": false,
    "executionCancelledAt": null,
    "executionTime": 52,
    "jupyter": {
     "outputs_hidden": false,
     "source_hidden": false
    },
    "lastExecutedAt": 1733432761699,
    "lastExecutedByKernel": "464275e9-0e65-4af8-8f08-a524cdaeee97",
    "lastScheduledRunId": null,
    "lastSuccessfullyExecutedCode": "df = pd.read_csv('car_insurance.csv')\nprint(df.head())\nprint(df.info())",
    "outputsMetadata": {
     "0": {
      "height": 616,
      "type": "stream"
     }
    }
   },
   "outputs": [
    {
     "name": "stdout",
     "output_type": "stream",
     "text": [
      "       id  age  gender  ... duis past_accidents outcome\n",
      "0  569520    3       0  ...    0              0     0.0\n",
      "1  750365    0       1  ...    0              0     1.0\n",
      "2  199901    0       0  ...    0              0     0.0\n",
      "3  478866    0       1  ...    0              0     0.0\n",
      "4  731664    1       1  ...    0              1     1.0\n",
      "\n",
      "[5 rows x 18 columns]\n",
      "<class 'pandas.core.frame.DataFrame'>\n",
      "RangeIndex: 10000 entries, 0 to 9999\n",
      "Data columns (total 18 columns):\n",
      " #   Column               Non-Null Count  Dtype  \n",
      "---  ------               --------------  -----  \n",
      " 0   id                   10000 non-null  int64  \n",
      " 1   age                  10000 non-null  int64  \n",
      " 2   gender               10000 non-null  int64  \n",
      " 3   driving_experience   10000 non-null  object \n",
      " 4   education            10000 non-null  object \n",
      " 5   income               10000 non-null  object \n",
      " 6   credit_score         9018 non-null   float64\n",
      " 7   vehicle_ownership    10000 non-null  float64\n",
      " 8   vehicle_year         10000 non-null  object \n",
      " 9   married              10000 non-null  float64\n",
      " 10  children             10000 non-null  float64\n",
      " 11  postal_code          10000 non-null  int64  \n",
      " 12  annual_mileage       9043 non-null   float64\n",
      " 13  vehicle_type         10000 non-null  object \n",
      " 14  speeding_violations  10000 non-null  int64  \n",
      " 15  duis                 10000 non-null  int64  \n",
      " 16  past_accidents       10000 non-null  int64  \n",
      " 17  outcome              10000 non-null  float64\n",
      "dtypes: float64(6), int64(7), object(5)\n",
      "memory usage: 1.4+ MB\n",
      "None\n"
     ]
    }
   ],
   "source": [
    "df = pd.read_csv('car_insurance.csv')\n",
    "print(df.head())\n",
    "print(df.info())"
   ]
  },
  {
   "cell_type": "code",
   "execution_count": 77,
   "id": "8ec50330-1729-406f-93a4-22b5be5e05bd",
   "metadata": {
    "collapsed": false,
    "executionCancelledAt": null,
    "executionTime": 31,
    "jupyter": {
     "outputs_hidden": false,
     "source_hidden": false
    },
    "lastExecutedAt": 1733432762678,
    "lastExecutedByKernel": "464275e9-0e65-4af8-8f08-a524cdaeee97",
    "lastScheduledRunId": null,
    "lastSuccessfullyExecutedCode": "cat_4 = [0,1,2,3]\ncat_2 = [0,1]\n\ncat_4_col = list(df[['age', 'driving_experience','income']].columns)\n\ncat_2_col = list(df[['gender','vehicle_ownership', 'vehicle_year', 'married', 'vehicle_type']].columns)\n\ndef assert_col(col, cat = 4):\n    global df, cat_4, cat_2\n    if cat == 4:\n        try:\n            assert df[col].all() in cat_4\n            print(f'the {col} column is clean.')\n        except AssertionError as e:\n            print(f'the {col} column is not clean.')\n            print(e)\n    else:\n        try:\n            assert df[col].all() in cat_2\n            print(f'the {col} column is clean.')\n        except AssertionError as e:\n            print(f'the {col} column is not clean.')\n            print(e)\n\ndef assert_cat(col):\n    global df\n    col_type = str(df[col].dtype)\n    if col_type != 'category':\n        df[col] = df[col].astype('category')\n        print(f'the {col} column is not category. astype method applied.')\n        return df[col]\n    else:\n        print(f'the {col} column is a category. Returning the col')\n        return df[col]\n    \nfor col in cat_4_col:\n    assert_col(col, cat = 4)\n    df[col] = assert_cat(col)\nfor col in cat_2_col:\n    assert_col(col, cat = 2)\n    df[col] = assert_cat(col)\n\ntry:\n    assert df['education'].unique().all() in [0,1,2]\n    print('The education column is clean and contains only valid values')\nexcept AssertionError:\n    print('The education column contains invalid or unexpected values. Please, verify.')",
    "outputsMetadata": {
     "0": {
      "height": 374,
      "type": "stream"
     }
    }
   },
   "outputs": [
    {
     "name": "stdout",
     "output_type": "stream",
     "text": [
      "the age column is clean.\n",
      "the age column is not category. astype method applied.\n",
      "the driving_experience column is clean.\n",
      "the driving_experience column is not category. astype method applied.\n",
      "the income column is clean.\n",
      "the income column is not category. astype method applied.\n",
      "the gender column is clean.\n",
      "the gender column is not category. astype method applied.\n",
      "the vehicle_ownership column is clean.\n",
      "the vehicle_ownership column is not category. astype method applied.\n",
      "the vehicle_year column is clean.\n",
      "the vehicle_year column is not category. astype method applied.\n",
      "the married column is clean.\n",
      "the married column is not category. astype method applied.\n",
      "the vehicle_type column is clean.\n",
      "the vehicle_type column is not category. astype method applied.\n",
      "The education column contains invalid or unexpected values. Please, verify.\n"
     ]
    }
   ],
   "source": [
    "cat_4 = [0,1,2,3]\n",
    "cat_2 = [0,1]\n",
    "\n",
    "cat_4_col = list(df[['age', 'driving_experience','income']].columns)\n",
    "\n",
    "cat_2_col = list(df[['gender','vehicle_ownership', 'vehicle_year', 'married', 'vehicle_type']].columns)\n",
    "\n",
    "def assert_col(col, cat = 4):\n",
    "    global df, cat_4, cat_2\n",
    "    if cat == 4:\n",
    "        try:\n",
    "            assert df[col].all() in cat_4\n",
    "            print(f'the {col} column is clean.')\n",
    "        except AssertionError as e:\n",
    "            print(f'the {col} column is not clean.')\n",
    "            print(e)\n",
    "    else:\n",
    "        try:\n",
    "            assert df[col].all() in cat_2\n",
    "            print(f'the {col} column is clean.')\n",
    "        except AssertionError as e:\n",
    "            print(f'the {col} column is not clean.')\n",
    "            print(e)\n",
    "\n",
    "def assert_cat(col):\n",
    "    global df\n",
    "    col_type = str(df[col].dtype)\n",
    "    if col_type != 'category':\n",
    "        df[col] = df[col].astype('category')\n",
    "        print(f'the {col} column is not category. astype method applied.')\n",
    "        return df[col]\n",
    "    else:\n",
    "        print(f'the {col} column is a category. Returning the col')\n",
    "        return df[col]\n",
    "    \n",
    "for col in cat_4_col:\n",
    "    assert_col(col, cat = 4)\n",
    "    df[col] = assert_cat(col)\n",
    "for col in cat_2_col:\n",
    "    assert_col(col, cat = 2)\n",
    "    df[col] = assert_cat(col)\n",
    "\n",
    "try:\n",
    "    assert df['education'].unique().all() in [0,1,2]\n",
    "    print('The education column is clean and contains only valid values')\n",
    "except AssertionError:\n",
    "    print('The education column contains invalid or unexpected values. Please, verify.')"
   ]
  },
  {
   "cell_type": "code",
   "execution_count": 78,
   "id": "0ed1862b-f926-45f5-84bb-a76711edd7b4",
   "metadata": {
    "executionCancelledAt": null,
    "executionTime": 13,
    "lastExecutedAt": 1733432765063,
    "lastExecutedByKernel": "464275e9-0e65-4af8-8f08-a524cdaeee97",
    "lastScheduledRunId": null,
    "lastSuccessfullyExecutedCode": "# Education is unique but its a string. Convert it.\ndf['education'].unique()\n\ndf['education'] = df['education'].astype('category')",
    "outputsMetadata": {
     "0": {
      "height": 542,
      "type": "stream"
     }
    }
   },
   "outputs": [],
   "source": [
    "# Education is unique but its a string. Convert it.\n",
    "df['education'].unique()\n",
    "\n",
    "df['education'] = df['education'].astype('category')"
   ]
  },
  {
   "cell_type": "code",
   "execution_count": 79,
   "id": "b165aad4-5f76-4572-ba68-e35a203e2ddd",
   "metadata": {
    "executionCancelledAt": null,
    "executionTime": 15,
    "lastExecutedAt": 1733432765677,
    "lastExecutedByKernel": "464275e9-0e65-4af8-8f08-a524cdaeee97",
    "lastScheduledRunId": null,
    "lastSuccessfullyExecutedCode": "# credit_score and annual mileage has NAs - more than 9% of the data frame\n# substitute NAs for the mean or median\n\ndf[['credit_score', 'annual_mileage']].agg(['mean', 'median'])\n\nprint(f'As the mean and median of credit_score and annual mileage are both similar, I\\'ll use mean as the substitute for NAs')\n",
    "outputsMetadata": {
     "0": {
      "height": 38,
      "type": "stream"
     }
    }
   },
   "outputs": [
    {
     "name": "stdout",
     "output_type": "stream",
     "text": [
      "As the mean and median of credit_score and annual mileage are both similar, I'll use mean as the substitute for NAs\n"
     ]
    }
   ],
   "source": [
    "# credit_score and annual mileage has NAs - more than 9% of the data frame\n",
    "# substitute NAs for the mean or median\n",
    "\n",
    "df[['credit_score', 'annual_mileage']].agg(['mean', 'median'])\n",
    "\n",
    "print(f'As the mean and median of credit_score and annual mileage are both similar, I\\'ll use mean as the substitute for NAs')\n"
   ]
  },
  {
   "cell_type": "code",
   "execution_count": 80,
   "id": "530a0915-4589-47c7-81e6-3ffa65528e9b",
   "metadata": {
    "executionCancelledAt": null,
    "executionTime": 12,
    "lastExecutedAt": 1733432766630,
    "lastExecutedByKernel": "464275e9-0e65-4af8-8f08-a524cdaeee97",
    "lastScheduledRunId": null,
    "lastSuccessfullyExecutedCode": "# Replacing NAs in credit_score and annual_mileage\nmean_credit = df['credit_score'].mean()\nmean_mileage = df['annual_mileage'].mean()\n\ndf = df.fillna({'credit_score': mean_credit,\n                'annual_mileage': mean_mileage})"
   },
   "outputs": [],
   "source": [
    "# Replacing NAs in credit_score and annual_mileage\n",
    "mean_credit = df['credit_score'].mean()\n",
    "mean_mileage = df['annual_mileage'].mean()\n",
    "\n",
    "df = df.fillna({'credit_score': mean_credit,\n",
    "                'annual_mileage': mean_mileage})"
   ]
  },
  {
   "cell_type": "code",
   "execution_count": 81,
   "id": "8aae422f-0f48-449f-b335-e2a0d1c439cd",
   "metadata": {
    "executionCancelledAt": null,
    "executionTime": 13,
    "lastExecutedAt": 1733432768527,
    "lastExecutedByKernel": "464275e9-0e65-4af8-8f08-a524cdaeee97",
    "lastScheduledRunId": null,
    "lastSuccessfullyExecutedCode": "# Postal code are repetitive, so they are a category\ndf['postal_code'] = df['postal_code'].astype('category')",
    "outputsMetadata": {
     "0": {
      "height": 222,
      "type": "dataFrame"
     }
    }
   },
   "outputs": [],
   "source": [
    "# Postal code are repetitive, so they are a category\n",
    "df['postal_code'] = df['postal_code'].astype('category')"
   ]
  },
  {
   "cell_type": "code",
   "execution_count": 82,
   "id": "9d4bb87f-7403-451f-8c21-1ae8fe8222c7",
   "metadata": {
    "collapsed": true,
    "executionCancelledAt": null,
    "executionTime": 2240,
    "jupyter": {
     "outputs_hidden": true,
     "source_hidden": false
    },
    "lastExecutedAt": 1733432771687,
    "lastExecutedByKernel": "464275e9-0e65-4af8-8f08-a524cdaeee97",
    "lastScheduledRunId": null,
    "lastSuccessfullyExecutedCode": "# scaning all the features to search the best based on accuracy\ndef accuracy(logit_model):\n    conf_matrix = logit_model.pred_table()\n    acc = (conf_matrix[0,0] + conf_matrix[1,1])/(conf_matrix[0,0] + conf_matrix[1,1] + conf_matrix[1,0] + conf_matrix[0,1])\n    return acc\n\n# listing all the features\ncols_df = list(df.columns)\ncols_df.remove('outcome')\ncols_df.remove('id')\n\nlogits = [logit(f'outcome ~ {col}', data = df).fit() for col in cols_df]\n\naccs = [accuracy(mdl) for mdl in logits]\n\nfeatures = pd.DataFrame({'feature' : cols_df,\n                         'accuracy' : accs}).sort_values('accuracy', ascending=False)\n\nprint(features) # we have a winner.",
    "outputsMetadata": {
     "0": {
      "height": 616,
      "type": "stream"
     },
     "1": {
      "height": 101,
      "type": "stream"
     },
     "2": {
      "height": 616,
      "type": "stream"
     }
    }
   },
   "outputs": [
    {
     "name": "stdout",
     "output_type": "stream",
     "text": [
      "Optimization terminated successfully.\n",
      "         Current function value: 0.506484\n",
      "         Iterations 6\n",
      "Optimization terminated successfully.\n",
      "         Current function value: 0.615951\n",
      "         Iterations 5\n",
      "Optimization terminated successfully.\n",
      "         Current function value: 0.467092\n",
      "         Iterations 8\n",
      "Optimization terminated successfully.\n",
      "         Current function value: 0.603742\n",
      "         Iterations 5\n",
      "Optimization terminated successfully.\n",
      "         Current function value: 0.531499\n",
      "         Iterations 6\n",
      "Optimization terminated successfully.\n",
      "         Current function value: 0.572557\n",
      "         Iterations 6\n",
      "Optimization terminated successfully.\n",
      "         Current function value: 0.552412\n",
      "         Iterations 5\n",
      "Optimization terminated successfully.\n",
      "         Current function value: 0.572668\n",
      "         Iterations 6\n",
      "Optimization terminated successfully.\n",
      "         Current function value: 0.586659\n",
      "         Iterations 5\n",
      "Optimization terminated successfully.\n",
      "         Current function value: 0.595431\n",
      "         Iterations 5\n",
      "Warning: Maximum number of iterations has been exceeded.\n",
      "         Current function value: 0.601589\n",
      "         Iterations: 35\n",
      "Optimization terminated successfully.\n",
      "         Current function value: 0.605716\n",
      "         Iterations 5\n",
      "Optimization terminated successfully.\n",
      "         Current function value: 0.621700\n",
      "         Iterations 5\n"
     ]
    },
    {
     "name": "stderr",
     "output_type": "stream",
     "text": [
      "/usr/local/lib/python3.8/dist-packages/statsmodels/base/model.py:607: ConvergenceWarning:\n",
      "\n",
      "Maximum Likelihood optimization failed to converge. Check mle_retvals\n",
      "\n"
     ]
    },
    {
     "name": "stdout",
     "output_type": "stream",
     "text": [
      "Optimization terminated successfully.\n",
      "         Current function value: 0.558922\n",
      "         Iterations 7\n",
      "Optimization terminated successfully.\n",
      "         Current function value: 0.598699\n",
      "         Iterations 6\n",
      "Optimization terminated successfully.\n",
      "         Current function value: 0.549220\n",
      "         Iterations 7\n",
      "                feature  accuracy\n",
      "2    driving_experience    0.7771\n",
      "0                   age    0.7747\n",
      "4                income    0.7425\n",
      "6     vehicle_ownership    0.7351\n",
      "5          credit_score    0.7054\n",
      "10          postal_code    0.6987\n",
      "11       annual_mileage    0.6904\n",
      "1                gender    0.6867\n",
      "3             education    0.6867\n",
      "7          vehicle_year    0.6867\n",
      "8               married    0.6867\n",
      "9              children    0.6867\n",
      "12         vehicle_type    0.6867\n",
      "13  speeding_violations    0.6867\n",
      "14                 duis    0.6867\n",
      "15       past_accidents    0.6867\n"
     ]
    }
   ],
   "source": [
    "# scaning all the features to search the best based on accuracy\n",
    "def accuracy(logit_model):\n",
    "    conf_matrix = logit_model.pred_table()\n",
    "    acc = (conf_matrix[0,0] + conf_matrix[1,1])/(conf_matrix[0,0] + conf_matrix[1,1] + conf_matrix[1,0] + conf_matrix[0,1])\n",
    "    return acc\n",
    "\n",
    "# listing all the features\n",
    "cols_df = list(df.columns)\n",
    "cols_df.remove('outcome')\n",
    "cols_df.remove('id')\n",
    "\n",
    "logits = [logit(f'outcome ~ {col}', data = df).fit() for col in cols_df]\n",
    "\n",
    "accs = [accuracy(mdl) for mdl in logits]\n",
    "\n",
    "features = pd.DataFrame({'feature' : cols_df,\n",
    "                         'accuracy' : accs}).sort_values('accuracy', ascending=False)\n",
    "\n",
    "print(features) # we have a winner."
   ]
  },
  {
   "cell_type": "code",
   "execution_count": 94,
   "id": "05875b38-d4dd-438a-8a31-3bbe7bcb9206",
   "metadata": {
    "executionCancelledAt": null,
    "executionTime": null,
    "lastExecutedAt": null,
    "lastExecutedByKernel": null,
    "lastScheduledRunId": null,
    "lastSuccessfullyExecutedCode": null,
    "outputsMetadata": {
     "0": {
      "height": 38,
      "type": "stream"
     }
    }
   },
   "outputs": [
    {
     "name": "stdout",
     "output_type": "stream",
     "text": [
      "the best feature is driving_experience with a accuracy of 78%\n"
     ]
    }
   ],
   "source": [
    "# Best feature\n",
    "\n",
    "best_feature_df = pd.DataFrame({'best_feature': [features.iloc[0, 0]],\n",
    "                             'best_accuracy': [features.iloc[0, 1]]})\n",
    "\n",
    "best_feature = best_feature_df['best_feature'][0]\n",
    "best_accuracy = round(best_feature_df['best_accuracy'][0]*100)\n",
    "\n",
    "print(f'the best feature is {best_feature} with a accuracy of {best_accuracy}%')"
   ]
  }
 ],
 "metadata": {
  "editor": "DataLab",
  "kernelspec": {
   "display_name": "Python 3 (ipykernel)",
   "language": "python",
   "name": "python3"
  },
  "language_info": {
   "codemirror_mode": {
    "name": "ipython",
    "version": 3
   },
   "file_extension": ".py",
   "mimetype": "text/x-python",
   "name": "python",
   "nbconvert_exporter": "python",
   "pygments_lexer": "ipython3",
   "version": "3.8.10"
  }
 },
 "nbformat": 4,
 "nbformat_minor": 5
}
